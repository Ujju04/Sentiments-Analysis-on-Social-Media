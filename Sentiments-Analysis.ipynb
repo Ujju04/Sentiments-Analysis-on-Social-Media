{
 "cells": [
  {
   "cell_type": "markdown",
   "metadata": {
    "id": "qAebbjyWoVvg"
   },
   "source": [
    "Importing dataset"
   ]
  },
  {
   "cell_type": "code",
   "execution_count": 1,
   "metadata": {
    "colab": {
     "base_uri": "https://localhost:8080/"
    },
    "id": "IXFv7e_YnfJd",
    "outputId": "bfd20fed-ed4e-4f9f-8f55-871feb049dad"
   },
   "outputs": [
    {
     "name": "stderr",
     "output_type": "stream",
     "text": [
      "[nltk_data] Downloading package stopwords to /Users/apple/nltk_data...\n",
      "[nltk_data]   Unzipping corpora/stopwords.zip.\n"
     ]
    }
   ],
   "source": [
    "import numpy as np\n",
    "import pandas as pd\n",
    "import re\n",
    "import nltk\n",
    "nltk.download('stopwords')\n",
    "from nltk.corpus import stopwords\n",
    "from nltk.stem.porter import PorterStemmer\n",
    "from sklearn.feature_extraction.text import TfidfVectorizer\n",
    "from sklearn.model_selection import train_test_split\n",
    "from sklearn.linear_model import LogisticRegression\n",
    "from sklearn.metrics import accuracy_score\n",
    "import pandas as pd\n",
    "import matplotlib.pyplot as plt\n",
    "import seaborn as sns"
   ]
  },
  {
   "cell_type": "code",
   "execution_count": 3,
   "metadata": {
    "colab": {
     "base_uri": "https://localhost:8080/"
    },
    "id": "M_tJmBvcqEPI",
    "outputId": "8fe23017-e94a-4504-e391-2bdfbb58d451"
   },
   "outputs": [
    {
     "name": "stdout",
     "output_type": "stream",
     "text": [
      "['a', 'about', 'above', 'after', 'again', 'against', 'ain', 'all', 'am', 'an', 'and', 'any', 'are', 'aren', \"aren't\", 'as', 'at', 'be', 'because', 'been', 'before', 'being', 'below', 'between', 'both', 'but', 'by', 'can', 'couldn', \"couldn't\", 'd', 'did', 'didn', \"didn't\", 'do', 'does', 'doesn', \"doesn't\", 'doing', 'don', \"don't\", 'down', 'during', 'each', 'few', 'for', 'from', 'further', 'had', 'hadn', \"hadn't\", 'has', 'hasn', \"hasn't\", 'have', 'haven', \"haven't\", 'having', 'he', \"he'd\", \"he'll\", 'her', 'here', 'hers', 'herself', \"he's\", 'him', 'himself', 'his', 'how', 'i', \"i'd\", 'if', \"i'll\", \"i'm\", 'in', 'into', 'is', 'isn', \"isn't\", 'it', \"it'd\", \"it'll\", \"it's\", 'its', 'itself', \"i've\", 'just', 'll', 'm', 'ma', 'me', 'mightn', \"mightn't\", 'more', 'most', 'mustn', \"mustn't\", 'my', 'myself', 'needn', \"needn't\", 'no', 'nor', 'not', 'now', 'o', 'of', 'off', 'on', 'once', 'only', 'or', 'other', 'our', 'ours', 'ourselves', 'out', 'over', 'own', 're', 's', 'same', 'shan', \"shan't\", 'she', \"she'd\", \"she'll\", \"she's\", 'should', 'shouldn', \"shouldn't\", \"should've\", 'so', 'some', 'such', 't', 'than', 'that', \"that'll\", 'the', 'their', 'theirs', 'them', 'themselves', 'then', 'there', 'these', 'they', \"they'd\", \"they'll\", \"they're\", \"they've\", 'this', 'those', 'through', 'to', 'too', 'under', 'until', 'up', 've', 'very', 'was', 'wasn', \"wasn't\", 'we', \"we'd\", \"we'll\", \"we're\", 'were', 'weren', \"weren't\", \"we've\", 'what', 'when', 'where', 'which', 'while', 'who', 'whom', 'why', 'will', 'with', 'won', \"won't\", 'wouldn', \"wouldn't\", 'y', 'you', \"you'd\", \"you'll\", 'your', \"you're\", 'yours', 'yourself', 'yourselves', \"you've\"]\n"
     ]
    }
   ],
   "source": [
    "#printing the stopwords in english\n",
    "print(stopwords.words('english'))"
   ]
  },
  {
   "cell_type": "markdown",
   "metadata": {
    "id": "C_mkQfsFqSDf"
   },
   "source": [
    "Data Processing\n"
   ]
  },
  {
   "cell_type": "code",
   "execution_count": 12,
   "metadata": {},
   "outputs": [
    {
     "name": "stdout",
     "output_type": "stream",
     "text": [
      "Requirement already satisfied: chardet in /opt/anaconda3/lib/python3.12/site-packages (4.0.0)\n"
     ]
    }
   ],
   "source": [
    "# Install the chardet module\n",
    "!pip install chardet"
   ]
  },
  {
   "cell_type": "code",
   "execution_count": 18,
   "metadata": {
    "colab": {
     "base_uri": "https://localhost:8080/",
     "height": 223
    },
    "id": "pKSqzZjnqUO0",
    "outputId": "a6d6e23d-8003-4a3a-94f2-af865f986f0d"
   },
   "outputs": [
    {
     "name": "stdout",
     "output_type": "stream",
     "text": [
      "Detected encoding: Windows-1254\n",
      "UnicodeDecodeError: 'charmap' codec can't decode byte 0x90 in position 1678: character maps to <undefined>\n",
      "Trying with 'ISO-8859-1' encoding as fallback...\n"
     ]
    },
    {
     "data": {
      "text/html": [
       "<div>\n",
       "<style scoped>\n",
       "    .dataframe tbody tr th:only-of-type {\n",
       "        vertical-align: middle;\n",
       "    }\n",
       "\n",
       "    .dataframe tbody tr th {\n",
       "        vertical-align: top;\n",
       "    }\n",
       "\n",
       "    .dataframe thead th {\n",
       "        text-align: right;\n",
       "    }\n",
       "</style>\n",
       "<table border=\"1\" class=\"dataframe\">\n",
       "  <thead>\n",
       "    <tr style=\"text-align: right;\">\n",
       "      <th></th>\n",
       "      <th>Sno.</th>\n",
       "      <th>Text</th>\n",
       "      <th>Sentiment</th>\n",
       "      <th>Timestamp</th>\n",
       "      <th>User</th>\n",
       "      <th>Platform</th>\n",
       "    </tr>\n",
       "  </thead>\n",
       "  <tbody>\n",
       "    <tr>\n",
       "      <th>0</th>\n",
       "      <td>1</td>\n",
       "      <td>Enjoying a beautiful day at the park!        ...</td>\n",
       "      <td>0</td>\n",
       "      <td>1/15/2023 12:30</td>\n",
       "      <td>User123</td>\n",
       "      <td>Twitter</td>\n",
       "    </tr>\n",
       "    <tr>\n",
       "      <th>1</th>\n",
       "      <td>2</td>\n",
       "      <td>Traffic was terrible this morning.           ...</td>\n",
       "      <td>1</td>\n",
       "      <td>1/15/2023 8:45</td>\n",
       "      <td>CommuterX</td>\n",
       "      <td>Twitter</td>\n",
       "    </tr>\n",
       "    <tr>\n",
       "      <th>2</th>\n",
       "      <td>3</td>\n",
       "      <td>Just finished an amazing workout! ðª       ...</td>\n",
       "      <td>0</td>\n",
       "      <td>1/15/2023 15:45</td>\n",
       "      <td>FitnessFan</td>\n",
       "      <td>Instagram</td>\n",
       "    </tr>\n",
       "    <tr>\n",
       "      <th>3</th>\n",
       "      <td>4</td>\n",
       "      <td>Excited about the upcoming weekend getaway!  ...</td>\n",
       "      <td>0</td>\n",
       "      <td>1/15/2023 18:20</td>\n",
       "      <td>AdventureX</td>\n",
       "      <td>Facebook</td>\n",
       "    </tr>\n",
       "    <tr>\n",
       "      <th>4</th>\n",
       "      <td>5</td>\n",
       "      <td>Trying out a new recipe for dinner tonight.  ...</td>\n",
       "      <td>2</td>\n",
       "      <td>1/15/2023 19:55</td>\n",
       "      <td>ChefCook</td>\n",
       "      <td>Instagram</td>\n",
       "    </tr>\n",
       "  </tbody>\n",
       "</table>\n",
       "</div>"
      ],
      "text/plain": [
       "   Sno.                                               Text  Sentiment  \\\n",
       "0     1   Enjoying a beautiful day at the park!        ...          0   \n",
       "1     2   Traffic was terrible this morning.           ...          1   \n",
       "2     3   Just finished an amazing workout! ðª       ...          0   \n",
       "3     4   Excited about the upcoming weekend getaway!  ...          0   \n",
       "4     5   Trying out a new recipe for dinner tonight.  ...          2   \n",
       "\n",
       "         Timestamp            User    Platform  \n",
       "0  1/15/2023 12:30   User123          Twitter   \n",
       "1   1/15/2023 8:45   CommuterX        Twitter   \n",
       "2  1/15/2023 15:45   FitnessFan     Instagram   \n",
       "3  1/15/2023 18:20   AdventureX      Facebook   \n",
       "4  1/15/2023 19:55   ChefCook       Instagram   "
      ]
     },
     "execution_count": 18,
     "metadata": {},
     "output_type": "execute_result"
    }
   ],
   "source": [
    "\n",
    "\n",
    "# Import the chardet module\n",
    "import chardet\n",
    "\n",
    "# Step 1: Detect encoding using chardet\n",
    "with open('sentiment.csv', 'rb') as f:\n",
    "    raw_data = f.read()\n",
    "    result = chardet.detect(raw_data)\n",
    "    encoding = result['encoding']\n",
    "    print(f\"Detected encoding: {encoding}\")\n",
    "\n",
    "# Step 2: Read the file using the detected encoding\n",
    "try:\n",
    "    df = pd.read_csv('sentiment.csv', encoding=encoding)\n",
    "except UnicodeDecodeError as e:\n",
    "    print(f\"UnicodeDecodeError: {e}\")\n",
    "    print(\"Trying with 'ISO-8859-1' encoding as fallback...\")\n",
    "    df = pd.read_csv('sentiment.csv', encoding='ISO-8859-1')\n",
    "\n",
    "# Verify that the data is loaded correctly\n",
    "df.head()\n"
   ]
  },
  {
   "cell_type": "code",
   "execution_count": 20,
   "metadata": {
    "colab": {
     "base_uri": "https://localhost:8080/"
    },
    "id": "P9Ed02LLrBYm",
    "outputId": "7f688832-ad95-4422-80cb-945124ee48e7"
   },
   "outputs": [
    {
     "data": {
      "text/plain": [
       "(747, 6)"
      ]
     },
     "execution_count": 20,
     "metadata": {},
     "output_type": "execute_result"
    }
   ],
   "source": [
    "#checking the number of rows and columns\n",
    "df.shape"
   ]
  },
  {
   "cell_type": "code",
   "execution_count": 22,
   "metadata": {
    "colab": {
     "base_uri": "https://localhost:8080/",
     "height": 423
    },
    "id": "nJsidOlTrxFz",
    "outputId": "61af4aa8-cfe5-47cf-9b49-be9d4083c04a"
   },
   "outputs": [
    {
     "data": {
      "text/html": [
       "<div>\n",
       "<style scoped>\n",
       "    .dataframe tbody tr th:only-of-type {\n",
       "        vertical-align: middle;\n",
       "    }\n",
       "\n",
       "    .dataframe tbody tr th {\n",
       "        vertical-align: top;\n",
       "    }\n",
       "\n",
       "    .dataframe thead th {\n",
       "        text-align: right;\n",
       "    }\n",
       "</style>\n",
       "<table border=\"1\" class=\"dataframe\">\n",
       "  <thead>\n",
       "    <tr style=\"text-align: right;\">\n",
       "      <th></th>\n",
       "      <th>Sno.</th>\n",
       "      <th>Text</th>\n",
       "      <th>Sentiment</th>\n",
       "      <th>Timestamp</th>\n",
       "      <th>User</th>\n",
       "      <th>Platform</th>\n",
       "    </tr>\n",
       "  </thead>\n",
       "  <tbody>\n",
       "    <tr>\n",
       "      <th>0</th>\n",
       "      <td>1</td>\n",
       "      <td>Enjoying a beautiful day at the park!        ...</td>\n",
       "      <td>0</td>\n",
       "      <td>1/15/2023 12:30</td>\n",
       "      <td>User123</td>\n",
       "      <td>Twitter</td>\n",
       "    </tr>\n",
       "    <tr>\n",
       "      <th>1</th>\n",
       "      <td>2</td>\n",
       "      <td>Traffic was terrible this morning.           ...</td>\n",
       "      <td>1</td>\n",
       "      <td>1/15/2023 8:45</td>\n",
       "      <td>CommuterX</td>\n",
       "      <td>Twitter</td>\n",
       "    </tr>\n",
       "    <tr>\n",
       "      <th>2</th>\n",
       "      <td>3</td>\n",
       "      <td>Just finished an amazing workout! ðª       ...</td>\n",
       "      <td>0</td>\n",
       "      <td>1/15/2023 15:45</td>\n",
       "      <td>FitnessFan</td>\n",
       "      <td>Instagram</td>\n",
       "    </tr>\n",
       "    <tr>\n",
       "      <th>3</th>\n",
       "      <td>4</td>\n",
       "      <td>Excited about the upcoming weekend getaway!  ...</td>\n",
       "      <td>0</td>\n",
       "      <td>1/15/2023 18:20</td>\n",
       "      <td>AdventureX</td>\n",
       "      <td>Facebook</td>\n",
       "    </tr>\n",
       "    <tr>\n",
       "      <th>4</th>\n",
       "      <td>5</td>\n",
       "      <td>Trying out a new recipe for dinner tonight.  ...</td>\n",
       "      <td>2</td>\n",
       "      <td>1/15/2023 19:55</td>\n",
       "      <td>ChefCook</td>\n",
       "      <td>Instagram</td>\n",
       "    </tr>\n",
       "    <tr>\n",
       "      <th>...</th>\n",
       "      <td>...</td>\n",
       "      <td>...</td>\n",
       "      <td>...</td>\n",
       "      <td>...</td>\n",
       "      <td>...</td>\n",
       "      <td>...</td>\n",
       "    </tr>\n",
       "    <tr>\n",
       "      <th>742</th>\n",
       "      <td>743</td>\n",
       "      <td>Drifting in the void of emptiness.</td>\n",
       "      <td>1</td>\n",
       "      <td>3/17/2023 19:30</td>\n",
       "      <td>EchoesRegret</td>\n",
       "      <td>Twitter</td>\n",
       "    </tr>\n",
       "    <tr>\n",
       "      <th>743</th>\n",
       "      <td>744</td>\n",
       "      <td>Shattered by the echoes of regret.</td>\n",
       "      <td>1</td>\n",
       "      <td>3/18/2023 19:30</td>\n",
       "      <td>DespairCycle</td>\n",
       "      <td>Instagram</td>\n",
       "    </tr>\n",
       "    <tr>\n",
       "      <th>744</th>\n",
       "      <td>745</td>\n",
       "      <td>Trapped in the cycle of despair.</td>\n",
       "      <td>1</td>\n",
       "      <td>3/19/2023 19:30</td>\n",
       "      <td>SoulDarkness</td>\n",
       "      <td>Facebook</td>\n",
       "    </tr>\n",
       "    <tr>\n",
       "      <th>745</th>\n",
       "      <td>746</td>\n",
       "      <td>Blinded by the darkness of the soul.</td>\n",
       "      <td>1</td>\n",
       "      <td>3/20/2023 19:30</td>\n",
       "      <td>SorrowSuffocation</td>\n",
       "      <td>Twitter</td>\n",
       "    </tr>\n",
       "    <tr>\n",
       "      <th>746</th>\n",
       "      <td>747</td>\n",
       "      <td>Suffocated by the weight of sorrow.</td>\n",
       "      <td>1</td>\n",
       "      <td>3/21/2023 19:30</td>\n",
       "      <td>WeightSuffocation</td>\n",
       "      <td>Instagram</td>\n",
       "    </tr>\n",
       "  </tbody>\n",
       "</table>\n",
       "<p>747 rows × 6 columns</p>\n",
       "</div>"
      ],
      "text/plain": [
       "     Sno.                                               Text  Sentiment  \\\n",
       "0       1   Enjoying a beautiful day at the park!        ...          0   \n",
       "1       2   Traffic was terrible this morning.           ...          1   \n",
       "2       3   Just finished an amazing workout! ðª       ...          0   \n",
       "3       4   Excited about the upcoming weekend getaway!  ...          0   \n",
       "4       5   Trying out a new recipe for dinner tonight.  ...          2   \n",
       "..    ...                                                ...        ...   \n",
       "742   743               Drifting in the void of emptiness.            1   \n",
       "743   744               Shattered by the echoes of regret.            1   \n",
       "744   745                 Trapped in the cycle of despair.            1   \n",
       "745   746             Blinded by the darkness of the soul.            1   \n",
       "746   747                Suffocated by the weight of sorrow.          1   \n",
       "\n",
       "           Timestamp                 User    Platform  \n",
       "0    1/15/2023 12:30        User123          Twitter   \n",
       "1     1/15/2023 8:45        CommuterX        Twitter   \n",
       "2    1/15/2023 15:45        FitnessFan     Instagram   \n",
       "3    1/15/2023 18:20        AdventureX      Facebook   \n",
       "4    1/15/2023 19:55        ChefCook       Instagram   \n",
       "..               ...                  ...         ...  \n",
       "742  3/17/2023 19:30       EchoesRegret      Twitter   \n",
       "743  3/18/2023 19:30       DespairCycle    Instagram   \n",
       "744  3/19/2023 19:30       SoulDarkness     Facebook   \n",
       "745  3/20/2023 19:30  SorrowSuffocation      Twitter   \n",
       "746  3/21/2023 19:30  WeightSuffocation    Instagram   \n",
       "\n",
       "[747 rows x 6 columns]"
      ]
     },
     "execution_count": 22,
     "metadata": {},
     "output_type": "execute_result"
    }
   ],
   "source": [
    "df"
   ]
  },
  {
   "cell_type": "code",
   "execution_count": null,
   "metadata": {
    "colab": {
     "base_uri": "https://localhost:8080/"
    },
    "id": "EOOgchsRud2I",
    "outputId": "3dd26098-c3b8-44c5-c436-92a54d6d1b81"
   },
   "outputs": [
    {
     "data": {
      "text/plain": [
       "Sno.         0\n",
       "Text         0\n",
       "Sentiment    0\n",
       "Timestamp    0\n",
       "User         0\n",
       "Platform     0\n",
       "dtype: int64"
      ]
     },
     "execution_count": 79,
     "metadata": {},
     "output_type": "execute_result"
    }
   ],
   "source": [
    "#counting the number of missing values in the dataset\n",
    "df.isnull().sum()"
   ]
  },
  {
   "cell_type": "code",
   "execution_count": 24,
   "metadata": {
    "colab": {
     "base_uri": "https://localhost:8080/",
     "height": 423
    },
    "id": "V60cC5Fx-VEl",
    "outputId": "89402a21-f161-4fca-dd1e-1a96b2b39b81"
   },
   "outputs": [
    {
     "data": {
      "text/html": [
       "<div>\n",
       "<style scoped>\n",
       "    .dataframe tbody tr th:only-of-type {\n",
       "        vertical-align: middle;\n",
       "    }\n",
       "\n",
       "    .dataframe tbody tr th {\n",
       "        vertical-align: top;\n",
       "    }\n",
       "\n",
       "    .dataframe thead th {\n",
       "        text-align: right;\n",
       "    }\n",
       "</style>\n",
       "<table border=\"1\" class=\"dataframe\">\n",
       "  <thead>\n",
       "    <tr style=\"text-align: right;\">\n",
       "      <th></th>\n",
       "      <th>Sno.</th>\n",
       "      <th>Text</th>\n",
       "      <th>Sentiment</th>\n",
       "      <th>Timestamp</th>\n",
       "      <th>User</th>\n",
       "      <th>Platform</th>\n",
       "    </tr>\n",
       "  </thead>\n",
       "  <tbody>\n",
       "    <tr>\n",
       "      <th>0</th>\n",
       "      <td>1</td>\n",
       "      <td>Enjoying a beautiful day at the park!        ...</td>\n",
       "      <td>0</td>\n",
       "      <td>1/15/2023 12:30</td>\n",
       "      <td>User123</td>\n",
       "      <td>Twitter</td>\n",
       "    </tr>\n",
       "    <tr>\n",
       "      <th>1</th>\n",
       "      <td>2</td>\n",
       "      <td>Traffic was terrible this morning.           ...</td>\n",
       "      <td>1</td>\n",
       "      <td>1/15/2023 8:45</td>\n",
       "      <td>CommuterX</td>\n",
       "      <td>Twitter</td>\n",
       "    </tr>\n",
       "    <tr>\n",
       "      <th>2</th>\n",
       "      <td>3</td>\n",
       "      <td>Just finished an amazing workout! ðª       ...</td>\n",
       "      <td>0</td>\n",
       "      <td>1/15/2023 15:45</td>\n",
       "      <td>FitnessFan</td>\n",
       "      <td>Instagram</td>\n",
       "    </tr>\n",
       "    <tr>\n",
       "      <th>3</th>\n",
       "      <td>4</td>\n",
       "      <td>Excited about the upcoming weekend getaway!  ...</td>\n",
       "      <td>0</td>\n",
       "      <td>1/15/2023 18:20</td>\n",
       "      <td>AdventureX</td>\n",
       "      <td>Facebook</td>\n",
       "    </tr>\n",
       "    <tr>\n",
       "      <th>4</th>\n",
       "      <td>5</td>\n",
       "      <td>Trying out a new recipe for dinner tonight.  ...</td>\n",
       "      <td>2</td>\n",
       "      <td>1/15/2023 19:55</td>\n",
       "      <td>ChefCook</td>\n",
       "      <td>Instagram</td>\n",
       "    </tr>\n",
       "    <tr>\n",
       "      <th>...</th>\n",
       "      <td>...</td>\n",
       "      <td>...</td>\n",
       "      <td>...</td>\n",
       "      <td>...</td>\n",
       "      <td>...</td>\n",
       "      <td>...</td>\n",
       "    </tr>\n",
       "    <tr>\n",
       "      <th>742</th>\n",
       "      <td>743</td>\n",
       "      <td>Drifting in the void of emptiness.</td>\n",
       "      <td>1</td>\n",
       "      <td>3/17/2023 19:30</td>\n",
       "      <td>EchoesRegret</td>\n",
       "      <td>Twitter</td>\n",
       "    </tr>\n",
       "    <tr>\n",
       "      <th>743</th>\n",
       "      <td>744</td>\n",
       "      <td>Shattered by the echoes of regret.</td>\n",
       "      <td>1</td>\n",
       "      <td>3/18/2023 19:30</td>\n",
       "      <td>DespairCycle</td>\n",
       "      <td>Instagram</td>\n",
       "    </tr>\n",
       "    <tr>\n",
       "      <th>744</th>\n",
       "      <td>745</td>\n",
       "      <td>Trapped in the cycle of despair.</td>\n",
       "      <td>1</td>\n",
       "      <td>3/19/2023 19:30</td>\n",
       "      <td>SoulDarkness</td>\n",
       "      <td>Facebook</td>\n",
       "    </tr>\n",
       "    <tr>\n",
       "      <th>745</th>\n",
       "      <td>746</td>\n",
       "      <td>Blinded by the darkness of the soul.</td>\n",
       "      <td>1</td>\n",
       "      <td>3/20/2023 19:30</td>\n",
       "      <td>SorrowSuffocation</td>\n",
       "      <td>Twitter</td>\n",
       "    </tr>\n",
       "    <tr>\n",
       "      <th>746</th>\n",
       "      <td>747</td>\n",
       "      <td>Suffocated by the weight of sorrow.</td>\n",
       "      <td>1</td>\n",
       "      <td>3/21/2023 19:30</td>\n",
       "      <td>WeightSuffocation</td>\n",
       "      <td>Instagram</td>\n",
       "    </tr>\n",
       "  </tbody>\n",
       "</table>\n",
       "<p>747 rows × 6 columns</p>\n",
       "</div>"
      ],
      "text/plain": [
       "     Sno.                                               Text  Sentiment  \\\n",
       "0       1   Enjoying a beautiful day at the park!        ...          0   \n",
       "1       2   Traffic was terrible this morning.           ...          1   \n",
       "2       3   Just finished an amazing workout! ðª       ...          0   \n",
       "3       4   Excited about the upcoming weekend getaway!  ...          0   \n",
       "4       5   Trying out a new recipe for dinner tonight.  ...          2   \n",
       "..    ...                                                ...        ...   \n",
       "742   743               Drifting in the void of emptiness.            1   \n",
       "743   744               Shattered by the echoes of regret.            1   \n",
       "744   745                 Trapped in the cycle of despair.            1   \n",
       "745   746             Blinded by the darkness of the soul.            1   \n",
       "746   747                Suffocated by the weight of sorrow.          1   \n",
       "\n",
       "           Timestamp                 User    Platform  \n",
       "0    1/15/2023 12:30        User123          Twitter   \n",
       "1     1/15/2023 8:45        CommuterX        Twitter   \n",
       "2    1/15/2023 15:45        FitnessFan     Instagram   \n",
       "3    1/15/2023 18:20        AdventureX      Facebook   \n",
       "4    1/15/2023 19:55        ChefCook       Instagram   \n",
       "..               ...                  ...         ...  \n",
       "742  3/17/2023 19:30       EchoesRegret      Twitter   \n",
       "743  3/18/2023 19:30       DespairCycle    Instagram   \n",
       "744  3/19/2023 19:30       SoulDarkness     Facebook   \n",
       "745  3/20/2023 19:30  SorrowSuffocation      Twitter   \n",
       "746  3/21/2023 19:30  WeightSuffocation    Instagram   \n",
       "\n",
       "[747 rows x 6 columns]"
      ]
     },
     "execution_count": 24,
     "metadata": {},
     "output_type": "execute_result"
    }
   ],
   "source": [
    "df"
   ]
  },
  {
   "cell_type": "code",
   "execution_count": 26,
   "metadata": {
    "colab": {
     "base_uri": "https://localhost:8080/"
    },
    "id": "2LS9KsK_CpeV",
    "outputId": "3861e980-713c-4f19-956b-f8a6db334919"
   },
   "outputs": [
    {
     "data": {
      "text/plain": [
       "Sentiment\n",
       "0    315\n",
       "1    254\n",
       "2    178\n",
       "Name: count, dtype: int64"
      ]
     },
     "execution_count": 26,
     "metadata": {},
     "output_type": "execute_result"
    }
   ],
   "source": [
    "\n",
    "#checking the distribution of target column where 0=Positive, 1=Negative, 2=Neutral\n",
    "df['Sentiment'].value_counts()"
   ]
  },
  {
   "cell_type": "code",
   "execution_count": 28,
   "metadata": {
    "colab": {
     "base_uri": "https://localhost:8080/",
     "height": 472
    },
    "id": "DKo5ybneVydI",
    "outputId": "6f464ec2-56b3-40d5-8813-aa3de14615ac"
   },
   "outputs": [
    {
     "data": {
      "image/png": "[encoded data removed]",
      "text/plain": [
       "<Figure size 640x480 with 1 Axes>"
      ]
     },
     "metadata": {},
     "output_type": "display_data"
    }
   ],
   "source": [
    "# Import necessary modules\n",
    "import pandas as pd\n",
    "import seaborn as sns\n",
    "import matplotlib.pyplot as plt\n",
    "\n",
    "# Create a copy of the df DataFrame\n",
    "df1 = df.copy()\n",
    "\n",
    "# Convert Timestamp to datetime\n",
    "df1['Timestamp'] = pd.to_datetime(df1['Timestamp'])\n",
    "\n",
    "# Plot 1: Sentiment Distribution\n",
    "sns.countplot(x='Sentiment', data=df1)\n",
    "plt.title('Sentiment Distributin')\n",
    "plt.xlabel('Sentiment')\n",
    "plt.ylabel('Count')\n",
    "plt.show()"
   ]
  },
  {
   "cell_type": "markdown",
   "metadata": {
    "id": "6OW0T-sJEFMW"
   },
   "source": [
    "0---> Positive\n",
    "1---> Negative\n",
    "2---> Neutral"
   ]
  },
  {
   "cell_type": "markdown",
   "metadata": {
    "id": "8YKOkzWIGi7L"
   },
   "source": [
    "Stemming\n",
    "\n",
    "Stemming is the process of reducing a words to its root word"
   ]
  },
  {
   "cell_type": "code",
   "execution_count": 32,
   "metadata": {
    "id": "A51g93jJGsJL"
   },
   "outputs": [],
   "source": [
    "port_stem=PorterStemmer()"
   ]
  },
  {
   "cell_type": "code",
   "execution_count": 34,
   "metadata": {
    "id": "w6MrNnMhG1fW"
   },
   "outputs": [],
   "source": [
    "def stemming(content):\n",
    "  stemmed_content= re.sub('[^a-zA-Z]',' ',content)\n",
    "  stemmed_content=stemmed_content.lower()\n",
    "  stemmed_content=stemmed_content.split()\n",
    "  stemmed_content=[port_stem.stem(word) for word in stemmed_content if not word in stopwords.words('english')]\n",
    "  stemmed_content=' '.join(stemmed_content)\n",
    "\n",
    "  return stemmed_content"
   ]
  },
  {
   "cell_type": "code",
   "execution_count": 36,
   "metadata": {
    "id": "Sjx9-A6yJANp"
   },
   "outputs": [],
   "source": [
    "df['stemmed_content']=df['Text'].apply(stemming)"
   ]
  },
  {
   "cell_type": "code",
   "execution_count": 38,
   "metadata": {
    "colab": {
     "base_uri": "https://localhost:8080/",
     "height": 206
    },
    "id": "48BLJgtyJPca",
    "outputId": "a401f65f-5e44-44d8-81ce-d8ca59e8279d"
   },
   "outputs": [
    {
     "data": {
      "text/html": [
       "<div>\n",
       "<style scoped>\n",
       "    .dataframe tbody tr th:only-of-type {\n",
       "        vertical-align: middle;\n",
       "    }\n",
       "\n",
       "    .dataframe tbody tr th {\n",
       "        vertical-align: top;\n",
       "    }\n",
       "\n",
       "    .dataframe thead th {\n",
       "        text-align: right;\n",
       "    }\n",
       "</style>\n",
       "<table border=\"1\" class=\"dataframe\">\n",
       "  <thead>\n",
       "    <tr style=\"text-align: right;\">\n",
       "      <th></th>\n",
       "      <th>Sno.</th>\n",
       "      <th>Text</th>\n",
       "      <th>Sentiment</th>\n",
       "      <th>Timestamp</th>\n",
       "      <th>User</th>\n",
       "      <th>Platform</th>\n",
       "      <th>stemmed_content</th>\n",
       "    </tr>\n",
       "  </thead>\n",
       "  <tbody>\n",
       "    <tr>\n",
       "      <th>0</th>\n",
       "      <td>1</td>\n",
       "      <td>Enjoying a beautiful day at the park!        ...</td>\n",
       "      <td>0</td>\n",
       "      <td>1/15/2023 12:30</td>\n",
       "      <td>User123</td>\n",
       "      <td>Twitter</td>\n",
       "      <td>enjoy beauti day park</td>\n",
       "    </tr>\n",
       "    <tr>\n",
       "      <th>1</th>\n",
       "      <td>2</td>\n",
       "      <td>Traffic was terrible this morning.           ...</td>\n",
       "      <td>1</td>\n",
       "      <td>1/15/2023 8:45</td>\n",
       "      <td>CommuterX</td>\n",
       "      <td>Twitter</td>\n",
       "      <td>traffic terribl morn</td>\n",
       "    </tr>\n",
       "    <tr>\n",
       "      <th>2</th>\n",
       "      <td>3</td>\n",
       "      <td>Just finished an amazing workout! ðª       ...</td>\n",
       "      <td>0</td>\n",
       "      <td>1/15/2023 15:45</td>\n",
       "      <td>FitnessFan</td>\n",
       "      <td>Instagram</td>\n",
       "      <td>finish amaz workout</td>\n",
       "    </tr>\n",
       "    <tr>\n",
       "      <th>3</th>\n",
       "      <td>4</td>\n",
       "      <td>Excited about the upcoming weekend getaway!  ...</td>\n",
       "      <td>0</td>\n",
       "      <td>1/15/2023 18:20</td>\n",
       "      <td>AdventureX</td>\n",
       "      <td>Facebook</td>\n",
       "      <td>excit upcom weekend getaway</td>\n",
       "    </tr>\n",
       "    <tr>\n",
       "      <th>4</th>\n",
       "      <td>5</td>\n",
       "      <td>Trying out a new recipe for dinner tonight.  ...</td>\n",
       "      <td>2</td>\n",
       "      <td>1/15/2023 19:55</td>\n",
       "      <td>ChefCook</td>\n",
       "      <td>Instagram</td>\n",
       "      <td>tri new recip dinner tonight</td>\n",
       "    </tr>\n",
       "  </tbody>\n",
       "</table>\n",
       "</div>"
      ],
      "text/plain": [
       "   Sno.                                               Text  Sentiment  \\\n",
       "0     1   Enjoying a beautiful day at the park!        ...          0   \n",
       "1     2   Traffic was terrible this morning.           ...          1   \n",
       "2     3   Just finished an amazing workout! ðª       ...          0   \n",
       "3     4   Excited about the upcoming weekend getaway!  ...          0   \n",
       "4     5   Trying out a new recipe for dinner tonight.  ...          2   \n",
       "\n",
       "         Timestamp            User    Platform               stemmed_content  \n",
       "0  1/15/2023 12:30   User123          Twitter          enjoy beauti day park  \n",
       "1   1/15/2023 8:45   CommuterX        Twitter           traffic terribl morn  \n",
       "2  1/15/2023 15:45   FitnessFan     Instagram            finish amaz workout  \n",
       "3  1/15/2023 18:20   AdventureX      Facebook    excit upcom weekend getaway  \n",
       "4  1/15/2023 19:55   ChefCook       Instagram   tri new recip dinner tonight  "
      ]
     },
     "execution_count": 38,
     "metadata": {},
     "output_type": "execute_result"
    }
   ],
   "source": [
    "#Showing the stemmed content\n",
    "df.head()"
   ]
  },
  {
   "cell_type": "code",
   "execution_count": 40,
   "metadata": {
    "colab": {
     "base_uri": "https://localhost:8080/"
    },
    "id": "2laoaNYrJlGH",
    "outputId": "bcd5a870-a0a0-487e-fa68-c5e5b2abe4b6"
   },
   "outputs": [
    {
     "name": "stdout",
     "output_type": "stream",
     "text": [
      "0             enjoy beauti day park\n",
      "1              traffic terribl morn\n",
      "2               finish amaz workout\n",
      "3       excit upcom weekend getaway\n",
      "4      tri new recip dinner tonight\n",
      "                   ...             \n",
      "742                drift void empti\n",
      "743             shatter echo regret\n",
      "744               trap cycl despair\n",
      "745                 blind dark soul\n",
      "746            suffoc weight sorrow\n",
      "Name: stemmed_content, Length: 747, dtype: object\n"
     ]
    }
   ],
   "source": [
    "print(df['stemmed_content'])"
   ]
  },
  {
   "cell_type": "code",
   "execution_count": 42,
   "metadata": {
    "colab": {
     "base_uri": "https://localhost:8080/"
    },
    "id": "cT5thMzTJ2dR",
    "outputId": "a3eb0758-8db7-4a86-d73f-ca31740e9d8c"
   },
   "outputs": [
    {
     "name": "stdout",
     "output_type": "stream",
     "text": [
      "0      0\n",
      "1      1\n",
      "2      0\n",
      "3      0\n",
      "4      2\n",
      "      ..\n",
      "742    1\n",
      "743    1\n",
      "744    1\n",
      "745    1\n",
      "746    1\n",
      "Name: Sentiment, Length: 747, dtype: int64\n"
     ]
    }
   ],
   "source": [
    "print(df['Sentiment'])"
   ]
  },
  {
   "cell_type": "code",
   "execution_count": 44,
   "metadata": {
    "id": "RmdKQVQGJ-n6"
   },
   "outputs": [],
   "source": [
    "#separating the data and label\n",
    "X=df['stemmed_content'].values\n",
    "Y=df['Sentiment'].values"
   ]
  },
  {
   "cell_type": "markdown",
   "metadata": {
    "id": "lojYhn8NKtfl"
   },
   "source": [
    "Splitting the data to training data and test data"
   ]
  },
  {
   "cell_type": "code",
   "execution_count": 47,
   "metadata": {
    "id": "IkFhMQaJKxwh"
   },
   "outputs": [],
   "source": [
    "X_train,X_test,Y_train,Y_test = train_test_split(X,Y, test_size=0.2, stratify=Y,random_state=2)"
   ]
  },
  {
   "cell_type": "code",
   "execution_count": 49,
   "metadata": {
    "colab": {
     "base_uri": "https://localhost:8080/"
    },
    "id": "TO9TKzDKLSt1",
    "outputId": "a2f02c32-2f58-4581-d20f-e034a8ea5aa5"
   },
   "outputs": [
    {
     "name": "stdout",
     "output_type": "stream",
     "text": [
      "(747,) (597,) (150,)\n"
     ]
    }
   ],
   "source": [
    "print(X.shape, X_train.shape, X_test.shape)"
   ]
  },
  {
   "cell_type": "code",
   "execution_count": 51,
   "metadata": {
    "id": "PTxFpt6aLafj"
   },
   "outputs": [],
   "source": [
    "#Convertinng the textual data to numerical data\n",
    "\n",
    "vectorizer= TfidfVectorizer()\n",
    "\n",
    "X_train= vectorizer.fit_transform(X_train)\n",
    "X_test= vectorizer.transform(X_test)"
   ]
  },
  {
   "cell_type": "code",
   "execution_count": 53,
   "metadata": {
    "colab": {
     "base_uri": "https://localhost:8080/"
    },
    "id": "AbwXS6hNMqoW",
    "outputId": "dd9c9a82-82cb-44e2-f45d-e9f36a0fd1b5"
   },
   "outputs": [
    {
     "name": "stdout",
     "output_type": "stream",
     "text": [
      "  (0, 791)\t0.24380944817696062\n",
      "  (0, 1285)\t0.2670826664208189\n",
      "  (0, 886)\t0.24705059562211124\n",
      "  (0, 850)\t0.6184712297721845\n",
      "  (0, 1141)\t0.3211654402536432\n",
      "  (0, 1473)\t0.2541895256324762\n",
      "  (0, 1287)\t0.2841080179378772\n",
      "  (0, 1450)\t0.35822286256940916\n",
      "  (0, 390)\t0.2210941051802207\n",
      "  (1, 241)\t0.28685291619174996\n",
      "  (1, 621)\t0.6011799025883142\n",
      "  (1, 1006)\t0.24309934531230162\n",
      "  (1, 1009)\t0.3005899512941571\n",
      "  (1, 1299)\t0.3005899512941571\n",
      "  (1, 1152)\t0.2481303890949894\n",
      "  (1, 1077)\t0.28685291619174996\n",
      "  (1, 411)\t0.3005899512941571\n",
      "  (1, 11)\t0.28685291619174996\n",
      "  (2, 253)\t0.3097337303643826\n",
      "  (2, 1032)\t0.2888281162154258\n",
      "  (2, 1300)\t0.24896276370037737\n",
      "  (2, 422)\t0.2888281162154258\n",
      "  (2, 492)\t0.2808801705874919\n",
      "  (2, 585)\t0.32456649965570417\n",
      "  (2, 898)\t0.3097337303643826\n",
      "  :\t:\n",
      "  (592, 484)\t0.2875902443326425\n",
      "  (592, 1171)\t0.32317545868198705\n",
      "  (592, 777)\t0.32317545868198705\n",
      "  (592, 1197)\t0.32317545868198705\n",
      "  (593, 969)\t0.35139746362765373\n",
      "  (593, 39)\t0.4371723933020056\n",
      "  (593, 47)\t0.45810804420045614\n",
      "  (593, 734)\t0.4876151868684369\n",
      "  (593, 972)\t0.4876151868684369\n",
      "  (594, 390)\t0.3766246627861338\n",
      "  (594, 672)\t0.4101138212957381\n",
      "  (594, 1153)\t0.8306386199566201\n",
      "  (595, 1169)\t0.7463306697459077\n",
      "  (595, 274)\t0.6655753386331443\n",
      "  (596, 322)\t0.2521484330055224\n",
      "  (596, 93)\t0.3278074448974214\n",
      "  (596, 769)\t0.21437682456994228\n",
      "  (596, 190)\t0.23437240153501313\n",
      "  (596, 754)\t0.301170754440403\n",
      "  (596, 259)\t0.30873842870994433\n",
      "  (596, 1251)\t0.3278074448974214\n",
      "  (596, 1131)\t0.30873842870994433\n",
      "  (596, 68)\t0.34045374235979436\n",
      "  (596, 1383)\t0.34045374235979436\n",
      "  (596, 609)\t0.3278074448974214\n"
     ]
    }
   ],
   "source": [
    "print(X_train)"
   ]
  },
  {
   "cell_type": "code",
   "execution_count": 55,
   "metadata": {
    "colab": {
     "base_uri": "https://localhost:8080/"
    },
    "id": "xcVZuwwOMxPZ",
    "outputId": "e9c41d3f-587e-4f68-fabe-b6d9a1f3acf8"
   },
   "outputs": [
    {
     "name": "stdout",
     "output_type": "stream",
     "text": [
      "  (0, 59)\t0.3104427676646397\n",
      "  (0, 148)\t0.3304386597946522\n",
      "  (0, 238)\t0.29625545641775014\n",
      "  (0, 293)\t0.28525092287747683\n",
      "  (0, 416)\t0.2762595642877376\n",
      "  (0, 433)\t0.3104427676646397\n",
      "  (0, 462)\t0.2620722530408481\n",
      "  (0, 514)\t0.21941409304917434\n",
      "  (0, 561)\t0.3304386597946522\n",
      "  (0, 708)\t0.24636740858319003\n",
      "  (0, 721)\t0.23812897970237118\n",
      "  (0, 1176)\t0.3304386597946522\n",
      "  (1, 292)\t0.3361345781701119\n",
      "  (1, 462)\t0.34375354682249976\n",
      "  (1, 678)\t0.3885907902399989\n",
      "  (1, 849)\t0.433428033657498\n",
      "  (1, 868)\t0.40719992762255447\n",
      "  (1, 949)\t0.3741564218866025\n",
      "  (1, 1216)\t0.35239122107538606\n",
      "  (2, 62)\t0.28453627741461096\n",
      "  (2, 223)\t0.3190595236385445\n",
      "  (2, 775)\t0.2564866442228701\n",
      "  (2, 998)\t0.3816324030542189\n",
      "  (2, 1180)\t0.30267422027424296\n",
      "  (2, 1192)\t0.717077230057065\n",
      "  :\t:\n",
      "  (147, 458)\t0.4750264008788941\n",
      "  (147, 513)\t0.4462810456084629\n",
      "  (147, 523)\t0.41006618089444197\n",
      "  (147, 530)\t0.4750264008788941\n",
      "  (147, 1021)\t0.42588589147018285\n",
      "  (148, 190)\t0.2547411333728805\n",
      "  (148, 330)\t0.3877625901705333\n",
      "  (148, 769)\t0.23300778974894765\n",
      "  (148, 954)\t0.32008948390074005\n",
      "  (148, 1147)\t0.3877625901705333\n",
      "  (148, 1203)\t0.4127387201781108\n",
      "  (148, 1335)\t0.4127387201781108\n",
      "  (148, 1397)\t0.3700417439158951\n",
      "  (149, 84)\t0.3348329674224372\n",
      "  (149, 141)\t0.3348329674224372\n",
      "  (149, 390)\t0.20665793016702774\n",
      "  (149, 556)\t0.3001951819108824\n",
      "  (149, 698)\t0.31457116179015504\n",
      "  (149, 758)\t0.24964370253574242\n",
      "  (149, 984)\t0.3001951819108824\n",
      "  (149, 1182)\t0.24529559076704546\n",
      "  (149, 1196)\t0.27993337627860027\n",
      "  (149, 1219)\t0.26555739639932757\n",
      "  (149, 1360)\t0.28904430561003047\n",
      "  (149, 1480)\t0.31457116179015504\n"
     ]
    }
   ],
   "source": [
    "print(X_test)"
   ]
  },
  {
   "cell_type": "markdown",
   "metadata": {
    "id": "qOttwAmrNADc"
   },
   "source": [
    "Training the Machine Learning Model"
   ]
  },
  {
   "cell_type": "markdown",
   "metadata": {
    "id": "LxclJ0w_NG1n"
   },
   "source": [
    "Logistic Regression"
   ]
  },
  {
   "cell_type": "code",
   "execution_count": 59,
   "metadata": {
    "id": "hCaXXyJ3NE0m"
   },
   "outputs": [],
   "source": [
    "model=LogisticRegression(max_iter=1000)"
   ]
  },
  {
   "cell_type": "code",
   "execution_count": 61,
   "metadata": {
    "colab": {
     "base_uri": "https://localhost:8080/",
     "height": 74
    },
    "id": "NAgZaXXfNQsb",
    "outputId": "245802f0-86a3-4770-c410-de38a3a2d8fa"
   },
   "outputs": [
    {
     "data": {
      "text/html": [
       "<style>#sk-container-id-1 {\n",
       "  /* Definition of color scheme common for light and dark mode */\n",
       "  --sklearn-color-text: black;\n",
       "  --sklearn-color-line: gray;\n",
       "  /* Definition of color scheme for unfitted estimators */\n",
       "  --sklearn-color-unfitted-level-0: #fff5e6;\n",
       "  --sklearn-color-unfitted-level-1: #f6e4d2;\n",
       "  --sklearn-color-unfitted-level-2: #ffe0b3;\n",
       "  --sklearn-color-unfitted-level-3: chocolate;\n",
       "  /* Definition of color scheme for fitted estimators */\n",
       "  --sklearn-color-fitted-level-0: #f0f8ff;\n",
       "  --sklearn-color-fitted-level-1: #d4ebff;\n",
       "  --sklearn-color-fitted-level-2: #b3dbfd;\n",
       "  --sklearn-color-fitted-level-3: cornflowerblue;\n",
       "\n",
       "  /* Specific color for light theme */\n",
       "  --sklearn-color-text-on-default-background: var(--sg-text-color, var(--theme-code-foreground, var(--jp-content-font-color1, black)));\n",
       "  --sklearn-color-background: var(--sg-background-color, var(--theme-background, var(--jp-layout-color0, white)));\n",
       "  --sklearn-color-border-box: var(--sg-text-color, var(--theme-code-foreground, var(--jp-content-font-color1, black)));\n",
       "  --sklearn-color-icon: #696969;\n",
       "\n",
       "  @media (prefers-color-scheme: dark) {\n",
       "    /* Redefinition of color scheme for dark theme */\n",
       "    --sklearn-color-text-on-default-background: var(--sg-text-color, var(--theme-code-foreground, var(--jp-content-font-color1, white)));\n",
       "    --sklearn-color-background: var(--sg-background-color, var(--theme-background, var(--jp-layout-color0, #111)));\n",
       "    --sklearn-color-border-box: var(--sg-text-color, var(--theme-code-foreground, var(--jp-content-font-color1, white)));\n",
       "    --sklearn-color-icon: #878787;\n",
       "  }\n",
       "}\n",
       "\n",
       "#sk-container-id-1 {\n",
       "  color: var(--sklearn-color-text);\n",
       "}\n",
       "\n",
       "#sk-container-id-1 pre {\n",
       "  padding: 0;\n",
       "}\n",
       "\n",
       "#sk-container-id-1 input.sk-hidden--visually {\n",
       "  border: 0;\n",
       "  clip: rect(1px 1px 1px 1px);\n",
       "  clip: rect(1px, 1px, 1px, 1px);\n",
       "  height: 1px;\n",
       "  margin: -1px;\n",
       "  overflow: hidden;\n",
       "  padding: 0;\n",
       "  position: absolute;\n",
       "  width: 1px;\n",
       "}\n",
       "\n",
       "#sk-container-id-1 div.sk-dashed-wrapped {\n",
       "  border: 1px dashed var(--sklearn-color-line);\n",
       "  margin: 0 0.4em 0.5em 0.4em;\n",
       "  box-sizing: border-box;\n",
       "  padding-bottom: 0.4em;\n",
       "  background-color: var(--sklearn-color-background);\n",
       "}\n",
       "\n",
       "#sk-container-id-1 div.sk-container {\n",
       "  /* jupyter's `normalize.less` sets `[hidden] { display: none; }`\n",
       "     but bootstrap.min.css set `[hidden] { display: none !important; }`\n",
       "     so we also need the `!important` here to be able to override the\n",
       "     default hidden behavior on the sphinx rendered scikit-learn.org.\n",
       "     See: https://github.com/scikit-learn/scikit-learn/issues/21755 */\n",
       "  display: inline-block !important;\n",
       "  position: relative;\n",
       "}\n",
       "\n",
       "#sk-container-id-1 div.sk-text-repr-fallback {\n",
       "  display: none;\n",
       "}\n",
       "\n",
       "div.sk-parallel-item,\n",
       "div.sk-serial,\n",
       "div.sk-item {\n",
       "  /* draw centered vertical line to link estimators */\n",
       "  background-image: linear-gradient(var(--sklearn-color-text-on-default-background), var(--sklearn-color-text-on-default-background));\n",
       "  background-size: 2px 100%;\n",
       "  background-repeat: no-repeat;\n",
       "  background-position: center center;\n",
       "}\n",
       "\n",
       "/* Parallel-specific style estimator block */\n",
       "\n",
       "#sk-container-id-1 div.sk-parallel-item::after {\n",
       "  content: \"\";\n",
       "  width: 100%;\n",
       "  border-bottom: 2px solid var(--sklearn-color-text-on-default-background);\n",
       "  flex-grow: 1;\n",
       "}\n",
       "\n",
       "#sk-container-id-1 div.sk-parallel {\n",
       "  display: flex;\n",
       "  align-items: stretch;\n",
       "  justify-content: center;\n",
       "  background-color: var(--sklearn-color-background);\n",
       "  position: relative;\n",
       "}\n",
       "\n",
       "#sk-container-id-1 div.sk-parallel-item {\n",
       "  display: flex;\n",
       "  flex-direction: column;\n",
       "}\n",
       "\n",
       "#sk-container-id-1 div.sk-parallel-item:first-child::after {\n",
       "  align-self: flex-end;\n",
       "  width: 50%;\n",
       "}\n",
       "\n",
       "#sk-container-id-1 div.sk-parallel-item:last-child::after {\n",
       "  align-self: flex-start;\n",
       "  width: 50%;\n",
       "}\n",
       "\n",
       "#sk-container-id-1 div.sk-parallel-item:only-child::after {\n",
       "  width: 0;\n",
       "}\n",
       "\n",
       "/* Serial-specific style estimator block */\n",
       "\n",
       "#sk-container-id-1 div.sk-serial {\n",
       "  display: flex;\n",
       "  flex-direction: column;\n",
       "  align-items: center;\n",
       "  background-color: var(--sklearn-color-background);\n",
       "  padding-right: 1em;\n",
       "  padding-left: 1em;\n",
       "}\n",
       "\n",
       "\n",
       "/* Toggleable style: style used for estimator/Pipeline/ColumnTransformer box that is\n",
       "clickable and can be expanded/collapsed.\n",
       "- Pipeline and ColumnTransformer use this feature and define the default style\n",
       "- Estimators will overwrite some part of the style using the `sk-estimator` class\n",
       "*/\n",
       "\n",
       "/* Pipeline and ColumnTransformer style (default) */\n",
       "\n",
       "#sk-container-id-1 div.sk-toggleable {\n",
       "  /* Default theme specific background. It is overwritten whether we have a\n",
       "  specific estimator or a Pipeline/ColumnTransformer */\n",
       "  background-color: var(--sklearn-color-background);\n",
       "}\n",
       "\n",
       "/* Toggleable label */\n",
       "#sk-container-id-1 label.sk-toggleable__label {\n",
       "  cursor: pointer;\n",
       "  display: block;\n",
       "  width: 100%;\n",
       "  margin-bottom: 0;\n",
       "  padding: 0.5em;\n",
       "  box-sizing: border-box;\n",
       "  text-align: center;\n",
       "}\n",
       "\n",
       "#sk-container-id-1 label.sk-toggleable__label-arrow:before {\n",
       "  /* Arrow on the left of the label */\n",
       "  content: \"▸\";\n",
       "  float: left;\n",
       "  margin-right: 0.25em;\n",
       "  color: var(--sklearn-color-icon);\n",
       "}\n",
       "\n",
       "#sk-container-id-1 label.sk-toggleable__label-arrow:hover:before {\n",
       "  color: var(--sklearn-color-text);\n",
       "}\n",
       "\n",
       "/* Toggleable content - dropdown */\n",
       "\n",
       "#sk-container-id-1 div.sk-toggleable__content {\n",
       "  max-height: 0;\n",
       "  max-width: 0;\n",
       "  overflow: hidden;\n",
       "  text-align: left;\n",
       "  /* unfitted */\n",
       "  background-color: var(--sklearn-color-unfitted-level-0);\n",
       "}\n",
       "\n",
       "#sk-container-id-1 div.sk-toggleable__content.fitted {\n",
       "  /* fitted */\n",
       "  background-color: var(--sklearn-color-fitted-level-0);\n",
       "}\n",
       "\n",
       "#sk-container-id-1 div.sk-toggleable__content pre {\n",
       "  margin: 0.2em;\n",
       "  border-radius: 0.25em;\n",
       "  color: var(--sklearn-color-text);\n",
       "  /* unfitted */\n",
       "  background-color: var(--sklearn-color-unfitted-level-0);\n",
       "}\n",
       "\n",
       "#sk-container-id-1 div.sk-toggleable__content.fitted pre {\n",
       "  /* unfitted */\n",
       "  background-color: var(--sklearn-color-fitted-level-0);\n",
       "}\n",
       "\n",
       "#sk-container-id-1 input.sk-toggleable__control:checked~div.sk-toggleable__content {\n",
       "  /* Expand drop-down */\n",
       "  max-height: 200px;\n",
       "  max-width: 100%;\n",
       "  overflow: auto;\n",
       "}\n",
       "\n",
       "#sk-container-id-1 input.sk-toggleable__control:checked~label.sk-toggleable__label-arrow:before {\n",
       "  content: \"▾\";\n",
       "}\n",
       "\n",
       "/* Pipeline/ColumnTransformer-specific style */\n",
       "\n",
       "#sk-container-id-1 div.sk-label input.sk-toggleable__control:checked~label.sk-toggleable__label {\n",
       "  color: var(--sklearn-color-text);\n",
       "  background-color: var(--sklearn-color-unfitted-level-2);\n",
       "}\n",
       "\n",
       "#sk-container-id-1 div.sk-label.fitted input.sk-toggleable__control:checked~label.sk-toggleable__label {\n",
       "  background-color: var(--sklearn-color-fitted-level-2);\n",
       "}\n",
       "\n",
       "/* Estimator-specific style */\n",
       "\n",
       "/* Colorize estimator box */\n",
       "#sk-container-id-1 div.sk-estimator input.sk-toggleable__control:checked~label.sk-toggleable__label {\n",
       "  /* unfitted */\n",
       "  background-color: var(--sklearn-color-unfitted-level-2);\n",
       "}\n",
       "\n",
       "#sk-container-id-1 div.sk-estimator.fitted input.sk-toggleable__control:checked~label.sk-toggleable__label {\n",
       "  /* fitted */\n",
       "  background-color: var(--sklearn-color-fitted-level-2);\n",
       "}\n",
       "\n",
       "#sk-container-id-1 div.sk-label label.sk-toggleable__label,\n",
       "#sk-container-id-1 div.sk-label label {\n",
       "  /* The background is the default theme color */\n",
       "  color: var(--sklearn-color-text-on-default-background);\n",
       "}\n",
       "\n",
       "/* On hover, darken the color of the background */\n",
       "#sk-container-id-1 div.sk-label:hover label.sk-toggleable__label {\n",
       "  color: var(--sklearn-color-text);\n",
       "  background-color: var(--sklearn-color-unfitted-level-2);\n",
       "}\n",
       "\n",
       "/* Label box, darken color on hover, fitted */\n",
       "#sk-container-id-1 div.sk-label.fitted:hover label.sk-toggleable__label.fitted {\n",
       "  color: var(--sklearn-color-text);\n",
       "  background-color: var(--sklearn-color-fitted-level-2);\n",
       "}\n",
       "\n",
       "/* Estimator label */\n",
       "\n",
       "#sk-container-id-1 div.sk-label label {\n",
       "  font-family: monospace;\n",
       "  font-weight: bold;\n",
       "  display: inline-block;\n",
       "  line-height: 1.2em;\n",
       "}\n",
       "\n",
       "#sk-container-id-1 div.sk-label-container {\n",
       "  text-align: center;\n",
       "}\n",
       "\n",
       "/* Estimator-specific */\n",
       "#sk-container-id-1 div.sk-estimator {\n",
       "  font-family: monospace;\n",
       "  border: 1px dotted var(--sklearn-color-border-box);\n",
       "  border-radius: 0.25em;\n",
       "  box-sizing: border-box;\n",
       "  margin-bottom: 0.5em;\n",
       "  /* unfitted */\n",
       "  background-color: var(--sklearn-color-unfitted-level-0);\n",
       "}\n",
       "\n",
       "#sk-container-id-1 div.sk-estimator.fitted {\n",
       "  /* fitted */\n",
       "  background-color: var(--sklearn-color-fitted-level-0);\n",
       "}\n",
       "\n",
       "/* on hover */\n",
       "#sk-container-id-1 div.sk-estimator:hover {\n",
       "  /* unfitted */\n",
       "  background-color: var(--sklearn-color-unfitted-level-2);\n",
       "}\n",
       "\n",
       "#sk-container-id-1 div.sk-estimator.fitted:hover {\n",
       "  /* fitted */\n",
       "  background-color: var(--sklearn-color-fitted-level-2);\n",
       "}\n",
       "\n",
       "/* Specification for estimator info (e.g. \"i\" and \"?\") */\n",
       "\n",
       "/* Common style for \"i\" and \"?\" */\n",
       "\n",
       ".sk-estimator-doc-link,\n",
       "a:link.sk-estimator-doc-link,\n",
       "a:visited.sk-estimator-doc-link {\n",
       "  float: right;\n",
       "  font-size: smaller;\n",
       "  line-height: 1em;\n",
       "  font-family: monospace;\n",
       "  background-color: var(--sklearn-color-background);\n",
       "  border-radius: 1em;\n",
       "  height: 1em;\n",
       "  width: 1em;\n",
       "  text-decoration: none !important;\n",
       "  margin-left: 1ex;\n",
       "  /* unfitted */\n",
       "  border: var(--sklearn-color-unfitted-level-1) 1pt solid;\n",
       "  color: var(--sklearn-color-unfitted-level-1);\n",
       "}\n",
       "\n",
       ".sk-estimator-doc-link.fitted,\n",
       "a:link.sk-estimator-doc-link.fitted,\n",
       "a:visited.sk-estimator-doc-link.fitted {\n",
       "  /* fitted */\n",
       "  border: var(--sklearn-color-fitted-level-1) 1pt solid;\n",
       "  color: var(--sklearn-color-fitted-level-1);\n",
       "}\n",
       "\n",
       "/* On hover */\n",
       "div.sk-estimator:hover .sk-estimator-doc-link:hover,\n",
       ".sk-estimator-doc-link:hover,\n",
       "div.sk-label-container:hover .sk-estimator-doc-link:hover,\n",
       ".sk-estimator-doc-link:hover {\n",
       "  /* unfitted */\n",
       "  background-color: var(--sklearn-color-unfitted-level-3);\n",
       "  color: var(--sklearn-color-background);\n",
       "  text-decoration: none;\n",
       "}\n",
       "\n",
       "div.sk-estimator.fitted:hover .sk-estimator-doc-link.fitted:hover,\n",
       ".sk-estimator-doc-link.fitted:hover,\n",
       "div.sk-label-container:hover .sk-estimator-doc-link.fitted:hover,\n",
       ".sk-estimator-doc-link.fitted:hover {\n",
       "  /* fitted */\n",
       "  background-color: var(--sklearn-color-fitted-level-3);\n",
       "  color: var(--sklearn-color-background);\n",
       "  text-decoration: none;\n",
       "}\n",
       "\n",
       "/* Span, style for the box shown on hovering the info icon */\n",
       ".sk-estimator-doc-link span {\n",
       "  display: none;\n",
       "  z-index: 9999;\n",
       "  position: relative;\n",
       "  font-weight: normal;\n",
       "  right: .2ex;\n",
       "  padding: .5ex;\n",
       "  margin: .5ex;\n",
       "  width: min-content;\n",
       "  min-width: 20ex;\n",
       "  max-width: 50ex;\n",
       "  color: var(--sklearn-color-text);\n",
       "  box-shadow: 2pt 2pt 4pt #999;\n",
       "  /* unfitted */\n",
       "  background: var(--sklearn-color-unfitted-level-0);\n",
       "  border: .5pt solid var(--sklearn-color-unfitted-level-3);\n",
       "}\n",
       "\n",
       ".sk-estimator-doc-link.fitted span {\n",
       "  /* fitted */\n",
       "  background: var(--sklearn-color-fitted-level-0);\n",
       "  border: var(--sklearn-color-fitted-level-3);\n",
       "}\n",
       "\n",
       ".sk-estimator-doc-link:hover span {\n",
       "  display: block;\n",
       "}\n",
       "\n",
       "/* \"?\"-specific style due to the `<a>` HTML tag */\n",
       "\n",
       "#sk-container-id-1 a.estimator_doc_link {\n",
       "  float: right;\n",
       "  font-size: 1rem;\n",
       "  line-height: 1em;\n",
       "  font-family: monospace;\n",
       "  background-color: var(--sklearn-color-background);\n",
       "  border-radius: 1rem;\n",
       "  height: 1rem;\n",
       "  width: 1rem;\n",
       "  text-decoration: none;\n",
       "  /* unfitted */\n",
       "  color: var(--sklearn-color-unfitted-level-1);\n",
       "  border: var(--sklearn-color-unfitted-level-1) 1pt solid;\n",
       "}\n",
       "\n",
       "#sk-container-id-1 a.estimator_doc_link.fitted {\n",
       "  /* fitted */\n",
       "  border: var(--sklearn-color-fitted-level-1) 1pt solid;\n",
       "  color: var(--sklearn-color-fitted-level-1);\n",
       "}\n",
       "\n",
       "/* On hover */\n",
       "#sk-container-id-1 a.estimator_doc_link:hover {\n",
       "  /* unfitted */\n",
       "  background-color: var(--sklearn-color-unfitted-level-3);\n",
       "  color: var(--sklearn-color-background);\n",
       "  text-decoration: none;\n",
       "}\n",
       "\n",
       "#sk-container-id-1 a.estimator_doc_link.fitted:hover {\n",
       "  /* fitted */\n",
       "  background-color: var(--sklearn-color-fitted-level-3);\n",
       "}\n",
       "</style><div id=\"sk-container-id-1\" class=\"sk-top-container\"><div class=\"sk-text-repr-fallback\"><pre>LogisticRegression(max_iter=1000)</pre><b>In a Jupyter environment, please rerun this cell to show the HTML representation or trust the notebook. <br />On GitHub, the HTML representation is unable to render, please try loading this page with nbviewer.org.</b></div><div class=\"sk-container\" hidden><div class=\"sk-item\"><div class=\"sk-estimator fitted sk-toggleable\"><input class=\"sk-toggleable__control sk-hidden--visually\" id=\"sk-estimator-id-1\" type=\"checkbox\" checked><label for=\"sk-estimator-id-1\" class=\"sk-toggleable__label fitted sk-toggleable__label-arrow fitted\">&nbsp;&nbsp;LogisticRegression<a class=\"sk-estimator-doc-link fitted\" rel=\"noreferrer\" target=\"_blank\" href=\"https://scikit-learn.org/1.5/modules/generated/sklearn.linear_model.LogisticRegression.html\">?<span>Documentation for LogisticRegression</span></a><span class=\"sk-estimator-doc-link fitted\">i<span>Fitted</span></span></label><div class=\"sk-toggleable__content fitted\"><pre>LogisticRegression(max_iter=1000)</pre></div> </div></div></div></div>"
      ],
      "text/plain": [
       "LogisticRegression(max_iter=1000)"
      ]
     },
     "execution_count": 61,
     "metadata": {},
     "output_type": "execute_result"
    }
   ],
   "source": [
    "model.fit(X_train,Y_train)"
   ]
  },
  {
   "cell_type": "markdown",
   "metadata": {
    "id": "VltlH4itNke8"
   },
   "source": [
    "Model Evaluation"
   ]
  },
  {
   "cell_type": "markdown",
   "metadata": {
    "id": "dlY9kqFTNnRL"
   },
   "source": [
    "Accuracy Score"
   ]
  },
  {
   "cell_type": "code",
   "execution_count": 65,
   "metadata": {
    "id": "JoSQjD6fNVU9"
   },
   "outputs": [],
   "source": [
    "#accuracy score on the training data\n",
    "X_train_prediction= model.predict(X_train)\n",
    "training_data_accuracy=accuracy_score(Y_train,X_train_prediction)"
   ]
  },
  {
   "cell_type": "code",
   "execution_count": 67,
   "metadata": {
    "colab": {
     "base_uri": "https://localhost:8080/"
    },
    "id": "7e_NHDbsON7p",
    "outputId": "7053fab3-08a8-424e-91e4-581ec6f89cb8"
   },
   "outputs": [
    {
     "name": "stdout",
     "output_type": "stream",
     "text": [
      "Accuracy score on the training data: 0.9631490787269682\n"
     ]
    }
   ],
   "source": [
    "print('Accuracy score on the training data:', training_data_accuracy)"
   ]
  },
  {
   "cell_type": "code",
   "execution_count": 69,
   "metadata": {
    "id": "FipjbUnpOWje"
   },
   "outputs": [],
   "source": [
    "#accuracy score on the test data\n",
    "X_test_prediction= model.predict(X_test)\n",
    "test_data_accuracy=accuracy_score(Y_test,X_test_prediction)"
   ]
  },
  {
   "cell_type": "code",
   "execution_count": 71,
   "metadata": {
    "colab": {
     "base_uri": "https://localhost:8080/"
    },
    "id": "Xvk7y0BXOt0C",
    "outputId": "a183e966-6440-4d50-c0e2-fddd87acfe1b"
   },
   "outputs": [
    {
     "name": "stdout",
     "output_type": "stream",
     "text": [
      "Accuracy score on the test data: 0.8266666666666667\n"
     ]
    }
   ],
   "source": [
    "print('Accuracy score on the test data:', test_data_accuracy)"
   ]
  },
  {
   "cell_type": "markdown",
   "metadata": {
    "id": "uXqaIQLFYGj-"
   },
   "source": [
    "Confusion Matrix"
   ]
  },
  {
   "cell_type": "code",
   "execution_count": 74,
   "metadata": {
    "colab": {
     "base_uri": "https://localhost:8080/",
     "height": 564
    },
    "id": "5AIiBK2NYFSt",
    "outputId": "08904b0f-dca6-4b77-9af6-6c73e4c791f6"
   },
   "outputs": [
    {
     "data": {
      "image/png": "[encoded data removed]",
      "text/plain": [
       "<Figure size 800x600 with 2 Axes>"
      ]
     },
     "metadata": {},
     "output_type": "display_data"
    }
   ],
   "source": [
    "from sklearn.metrics import confusion_matrix\n",
    "\n",
    "# Generate confusion matrix\n",
    "conf_matrix = confusion_matrix(Y_test, X_test_prediction)\n",
    "\n",
    "# Plot confusion matrix\n",
    "plt.figure(figsize=(8, 6))\n",
    "sns.heatmap(conf_matrix, annot=True, fmt='d', cmap='Blues')\n",
    "plt.title('Confusion Matrix')\n",
    "plt.xlabel('Predicted Label')\n",
    "plt.ylabel('True Label')\n",
    "plt.show()\n"
   ]
  },
  {
   "cell_type": "markdown",
   "metadata": {
    "id": "Rt1WjWoTYMr_"
   },
   "source": [
    "Classification Report: Print a classification report which includes precision, recall, F1-score, and support for each class (positive, negative, neutral)."
   ]
  },
  {
   "cell_type": "code",
   "execution_count": 77,
   "metadata": {
    "colab": {
     "base_uri": "https://localhost:8080/"
    },
    "id": "iIoFj7c8YQet",
    "outputId": "3c21c585-e987-43ee-8bf6-f304934e5e94"
   },
   "outputs": [
    {
     "name": "stdout",
     "output_type": "stream",
     "text": [
      "Classification Report:\n",
      "               precision    recall  f1-score   support\n",
      "\n",
      "           0       0.78      0.94      0.85        63\n",
      "           1       0.92      0.86      0.89        51\n",
      "           2       0.81      0.58      0.68        36\n",
      "\n",
      "    accuracy                           0.83       150\n",
      "   macro avg       0.83      0.79      0.81       150\n",
      "weighted avg       0.83      0.83      0.82       150\n",
      "\n"
     ]
    }
   ],
   "source": [
    "from sklearn.metrics import classification_report\n",
    "\n",
    "# Generate classification report\n",
    "class_report = classification_report(Y_test, X_test_prediction)\n",
    "\n",
    "# Print classification report\n",
    "print(\"Classification Report:\\n\", class_report)\n"
   ]
  },
  {
   "cell_type": "markdown",
   "metadata": {
    "id": "0jHJzn8gYZEg"
   },
   "source": [
    "ROC Curve"
   ]
  },
  {
   "cell_type": "code",
   "execution_count": 80,
   "metadata": {
    "colab": {
     "base_uri": "https://localhost:8080/",
     "height": 507
    },
    "id": "ffr1otwOYcA8",
    "outputId": "400fedaf-26a3-4c4f-c630-41c3ed27e083"
   },
   "outputs": [
    {
     "name": "stderr",
     "output_type": "stream",
     "text": [
      "/opt/anaconda3/lib/python3.12/site-packages/sklearn/metrics/_ranking.py:1183: UndefinedMetricWarning: No positive samples in y_true, true positive value should be meaningless\n",
      "  warnings.warn(\n"
     ]
    },
    {
     "data": {
      "image/png": "[encoded data removed]",
      "text/plain": [
       "<Figure size 640x480 with 1 Axes>"
      ]
     },
     "metadata": {},
     "output_type": "display_data"
    }
   ],
   "source": [
    "# Import necessary modules\n",
    "from sklearn.metrics import roc_curve, auc\n",
    "from sklearn.preprocessing import label_binarize\n",
    "import matplotlib.pyplot as plt\n",
    "\n",
    "# Binarize the target variable\n",
    "Y_test_binarized = label_binarize(Y_test, classes=['0', '1'])\n",
    "\n",
    "# Convert X_test_prediction to float\n",
    "X_test_prediction = X_test_prediction.astype(float)\n",
    "\n",
    "# Compute ROC curve and AUC score\n",
    "fpr, tpr, thresholds = roc_curve(Y_test_binarized[:, 1], X_test_prediction)\n",
    "roc_auc = auc(fpr, tpr)\n",
    "\n",
    "# Plot ROC curve\n",
    "plt.figure()\n",
    "plt.plot(fpr, tpr, color='darkorange', lw=2, label='ROC curve (area = %0.2f)' % roc_auc)\n",
    "plt.plot([0, 1], [0, 1], color='navy', lw=2, linestyle='--')\n",
    "plt.xlim([0.0, 1.0])\n",
    "plt.ylim([0.0, 1.05])\n",
    "plt.xlabel('False Positive Rate')\n",
    "plt.ylabel('True Positive Rate')\n",
    "plt.title('Receiver Operating Characteristic')\n",
    "plt.legend(loc='lower right')\n",
    "plt.show()"
   ]
  },
  {
   "cell_type": "code",
   "execution_count": 82,
   "metadata": {
    "colab": {
     "base_uri": "https://localhost:8080/"
    },
    "id": "g-72i97Bbt0x",
    "outputId": "c2961d7f-92df-4dd2-cb69-b43d0810954b"
   },
   "outputs": [
    {
     "name": "stdout",
     "output_type": "stream",
     "text": [
      "\n",
      "Sample Predictions:\n",
      "   True_Sentiment  Predicted_Sentiment\n",
      "0               0                  0.0\n",
      "1               0                  0.0\n",
      "2               2                  0.0\n",
      "3               2                  2.0\n",
      "4               2                  2.0\n"
     ]
    }
   ],
   "source": [
    "sample_predictions = pd.DataFrame({ 'True_Sentiment': Y_test, 'Predicted_Sentiment': X_test_prediction})\n",
    "print(\"\\nSample Predictions:\")\n",
    "print(sample_predictions.head())"
   ]
  },
  {
   "cell_type": "markdown",
   "metadata": {
    "id": "GwrPce4RZDRd"
   },
   "source": [
    "Correct vs. Incorrect Predictions"
   ]
  },
  {
   "cell_type": "code",
   "execution_count": 85,
   "metadata": {
    "id": "HFoJgLhiOwra"
   },
   "outputs": [],
   "source": [
    "import pickle"
   ]
  },
  {
   "cell_type": "code",
   "execution_count": 87,
   "metadata": {
    "id": "Nn3n-_v7PPat"
   },
   "outputs": [],
   "source": [
    "filename= 'trained_model.sav'\n",
    "pickle.dump(model,open(filename, 'wb'))"
   ]
  },
  {
   "cell_type": "markdown",
   "metadata": {
    "id": "I6JwvwBUPeZP"
   },
   "source": [
    "Using the saved model for future Prediction"
   ]
  },
  {
   "cell_type": "code",
   "execution_count": 94,
   "metadata": {
    "id": "sCk2-cwaPcd0"
   },
   "outputs": [],
   "source": [
    "#Loading the saved model\n",
    "loaded_model= pickle.load(open('trained_model.sav', 'rb'))"
   ]
  },
  {
   "cell_type": "code",
   "execution_count": 111,
   "metadata": {
    "colab": {
     "base_uri": "https://localhost:8080/"
    },
    "id": "kVjiQxujPzYT",
    "outputId": "9369f090-1192-466e-b3b5-81b349f5f45b"
   },
   "outputs": [
    {
     "name": "stdout",
     "output_type": "stream",
     "text": [
      "2\n",
      "[2]\n",
      "Neutral\n"
     ]
    }
   ],
   "source": [
    "X_new=X_test[3]\n",
    "print(Y_test[3])\n",
    "\n",
    "prediction=model.predict(X_new)\n",
    "print(prediction)\n",
    "\n",
    "if prediction[0] == '0':\n",
    "  print(\"Positive\")\n",
    "elif prediction[0] == '1':\n",
    "  print(\"Negative\")\n",
    "else:\n",
    "\n",
    "  print(\"Neutral\")"
   ]
  }
 ],
 "metadata": {
  "colab": {
   "provenance": []
  },
  "kernelspec": {
   "display_name": "Python [conda env:base] *",
   "language": "python",
   "name": "conda-base-py"
  },
  "language_info": {
   "codemirror_mode": {
    "name": "ipython",
    "version": 3
   },
   "file_extension": ".py",
   "mimetype": "text/x-python",
   "name": "python",
   "nbconvert_exporter": "python",
   "pygments_lexer": "ipython3",
   "version": "3.12.7"
  }
 },
 "nbformat": 4,
 "nbformat_minor": 4
}
